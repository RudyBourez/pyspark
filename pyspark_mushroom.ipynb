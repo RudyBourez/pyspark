{
 "cells": [
  {
   "cell_type": "code",
   "execution_count": null,
   "metadata": {},
   "outputs": [],
   "source": [
    "# docker run -v ${PWD}:/home/jovyan/work -p 8888:8888 --rm jupyter/pyspark-notebook"
   ]
  },
  {
   "cell_type": "code",
   "execution_count": 1,
   "metadata": {},
   "outputs": [],
   "source": [
    "from pyspark.sql import SparkSession"
   ]
  },
  {
   "cell_type": "code",
   "execution_count": 2,
   "metadata": {},
   "outputs": [],
   "source": [
    "spark = SparkSession.builder.getOrCreate()"
   ]
  },
  {
   "cell_type": "code",
   "execution_count": 3,
   "metadata": {},
   "outputs": [],
   "source": [
    "df = spark.read.csv('../jovyan/work/API/mushrooms.csv',header=True,inferSchema=True)"
   ]
  },
  {
   "cell_type": "code",
   "execution_count": 4,
   "metadata": {},
   "outputs": [
    {
     "name": "stdout",
     "output_type": "stream",
     "text": [
      "+-----+---------+-----------+---------+-------+----+---------------+------------+---------+----------+-----------+----------+------------------------+------------------------+----------------------+----------------------+---------+----------+-----------+---------+-----------------+----------+-------+\n",
      "|class|cap-shape|cap-surface|cap-color|bruises|odor|gill-attachment|gill-spacing|gill-size|gill-color|stalk-shape|stalk-root|stalk-surface-above-ring|stalk-surface-below-ring|stalk-color-above-ring|stalk-color-below-ring|veil-type|veil-color|ring-number|ring-type|spore-print-color|population|habitat|\n",
      "+-----+---------+-----------+---------+-------+----+---------------+------------+---------+----------+-----------+----------+------------------------+------------------------+----------------------+----------------------+---------+----------+-----------+---------+-----------------+----------+-------+\n",
      "|    p|        x|          s|        n|      t|   p|              f|           c|        n|         k|          e|         e|                       s|                       s|                     w|                     w|        p|         w|          o|        p|                k|         s|      u|\n",
      "|    e|        x|          s|        y|      t|   a|              f|           c|        b|         k|          e|         c|                       s|                       s|                     w|                     w|        p|         w|          o|        p|                n|         n|      g|\n",
      "|    e|        b|          s|        w|      t|   l|              f|           c|        b|         n|          e|         c|                       s|                       s|                     w|                     w|        p|         w|          o|        p|                n|         n|      m|\n",
      "|    p|        x|          y|        w|      t|   p|              f|           c|        n|         n|          e|         e|                       s|                       s|                     w|                     w|        p|         w|          o|        p|                k|         s|      u|\n",
      "|    e|        x|          s|        g|      f|   n|              f|           w|        b|         k|          t|         e|                       s|                       s|                     w|                     w|        p|         w|          o|        e|                n|         a|      g|\n",
      "|    e|        x|          y|        y|      t|   a|              f|           c|        b|         n|          e|         c|                       s|                       s|                     w|                     w|        p|         w|          o|        p|                k|         n|      g|\n",
      "|    e|        b|          s|        w|      t|   a|              f|           c|        b|         g|          e|         c|                       s|                       s|                     w|                     w|        p|         w|          o|        p|                k|         n|      m|\n",
      "|    e|        b|          y|        w|      t|   l|              f|           c|        b|         n|          e|         c|                       s|                       s|                     w|                     w|        p|         w|          o|        p|                n|         s|      m|\n",
      "|    p|        x|          y|        w|      t|   p|              f|           c|        n|         p|          e|         e|                       s|                       s|                     w|                     w|        p|         w|          o|        p|                k|         v|      g|\n",
      "|    e|        b|          s|        y|      t|   a|              f|           c|        b|         g|          e|         c|                       s|                       s|                     w|                     w|        p|         w|          o|        p|                k|         s|      m|\n",
      "|    e|        x|          y|        y|      t|   l|              f|           c|        b|         g|          e|         c|                       s|                       s|                     w|                     w|        p|         w|          o|        p|                n|         n|      g|\n",
      "|    e|        x|          y|        y|      t|   a|              f|           c|        b|         n|          e|         c|                       s|                       s|                     w|                     w|        p|         w|          o|        p|                k|         s|      m|\n",
      "|    e|        b|          s|        y|      t|   a|              f|           c|        b|         w|          e|         c|                       s|                       s|                     w|                     w|        p|         w|          o|        p|                n|         s|      g|\n",
      "|    p|        x|          y|        w|      t|   p|              f|           c|        n|         k|          e|         e|                       s|                       s|                     w|                     w|        p|         w|          o|        p|                n|         v|      u|\n",
      "|    e|        x|          f|        n|      f|   n|              f|           w|        b|         n|          t|         e|                       s|                       f|                     w|                     w|        p|         w|          o|        e|                k|         a|      g|\n",
      "|    e|        s|          f|        g|      f|   n|              f|           c|        n|         k|          e|         e|                       s|                       s|                     w|                     w|        p|         w|          o|        p|                n|         y|      u|\n",
      "|    e|        f|          f|        w|      f|   n|              f|           w|        b|         k|          t|         e|                       s|                       s|                     w|                     w|        p|         w|          o|        e|                n|         a|      g|\n",
      "|    p|        x|          s|        n|      t|   p|              f|           c|        n|         n|          e|         e|                       s|                       s|                     w|                     w|        p|         w|          o|        p|                k|         s|      g|\n",
      "|    p|        x|          y|        w|      t|   p|              f|           c|        n|         n|          e|         e|                       s|                       s|                     w|                     w|        p|         w|          o|        p|                n|         s|      u|\n",
      "|    p|        x|          s|        n|      t|   p|              f|           c|        n|         k|          e|         e|                       s|                       s|                     w|                     w|        p|         w|          o|        p|                n|         s|      u|\n",
      "+-----+---------+-----------+---------+-------+----+---------------+------------+---------+----------+-----------+----------+------------------------+------------------------+----------------------+----------------------+---------+----------+-----------+---------+-----------------+----------+-------+\n",
      "only showing top 20 rows\n",
      "\n",
      "root\n",
      " |-- class: string (nullable = true)\n",
      " |-- cap-shape: string (nullable = true)\n",
      " |-- cap-surface: string (nullable = true)\n",
      " |-- cap-color: string (nullable = true)\n",
      " |-- bruises: string (nullable = true)\n",
      " |-- odor: string (nullable = true)\n",
      " |-- gill-attachment: string (nullable = true)\n",
      " |-- gill-spacing: string (nullable = true)\n",
      " |-- gill-size: string (nullable = true)\n",
      " |-- gill-color: string (nullable = true)\n",
      " |-- stalk-shape: string (nullable = true)\n",
      " |-- stalk-root: string (nullable = true)\n",
      " |-- stalk-surface-above-ring: string (nullable = true)\n",
      " |-- stalk-surface-below-ring: string (nullable = true)\n",
      " |-- stalk-color-above-ring: string (nullable = true)\n",
      " |-- stalk-color-below-ring: string (nullable = true)\n",
      " |-- veil-type: string (nullable = true)\n",
      " |-- veil-color: string (nullable = true)\n",
      " |-- ring-number: string (nullable = true)\n",
      " |-- ring-type: string (nullable = true)\n",
      " |-- spore-print-color: string (nullable = true)\n",
      " |-- population: string (nullable = true)\n",
      " |-- habitat: string (nullable = true)\n",
      "\n"
     ]
    }
   ],
   "source": [
    "df.show()\n",
    "df.printSchema()"
   ]
  },
  {
   "cell_type": "code",
   "execution_count": 5,
   "metadata": {},
   "outputs": [
    {
     "name": "stdout",
     "output_type": "stream",
     "text": [
      "-RECORD 0--------------------------\n",
      " summary                  | count  \n",
      " class                    | 8124   \n",
      " cap-shape                | 8124   \n",
      " cap-surface              | 8124   \n",
      " cap-color                | 8124   \n",
      " bruises                  | 8124   \n",
      " odor                     | 8124   \n",
      " gill-attachment          | 8124   \n",
      " gill-spacing             | 8124   \n",
      " gill-size                | 8124   \n",
      " gill-color               | 8124   \n",
      " stalk-shape              | 8124   \n",
      " stalk-root               | 8124   \n",
      " stalk-surface-above-ring | 8124   \n",
      " stalk-surface-below-ring | 8124   \n",
      " stalk-color-above-ring   | 8124   \n",
      " stalk-color-below-ring   | 8124   \n",
      " veil-type                | 8124   \n",
      " veil-color               | 8124   \n",
      " ring-number              | 8124   \n",
      " ring-type                | 8124   \n",
      " spore-print-color        | 8124   \n",
      " population               | 8124   \n",
      " habitat                  | 8124   \n",
      "-RECORD 1--------------------------\n",
      " summary                  | mean   \n",
      " class                    | null   \n",
      " cap-shape                | null   \n",
      " cap-surface              | null   \n",
      " cap-color                | null   \n",
      " bruises                  | null   \n",
      " odor                     | null   \n",
      " gill-attachment          | null   \n",
      " gill-spacing             | null   \n",
      " gill-size                | null   \n",
      " gill-color               | null   \n",
      " stalk-shape              | null   \n",
      " stalk-root               | null   \n",
      " stalk-surface-above-ring | null   \n",
      " stalk-surface-below-ring | null   \n",
      " stalk-color-above-ring   | null   \n",
      " stalk-color-below-ring   | null   \n",
      " veil-type                | null   \n",
      " veil-color               | null   \n",
      " ring-number              | null   \n",
      " ring-type                | null   \n",
      " spore-print-color        | null   \n",
      " population               | null   \n",
      " habitat                  | null   \n",
      "-RECORD 2--------------------------\n",
      " summary                  | stddev \n",
      " class                    | null   \n",
      " cap-shape                | null   \n",
      " cap-surface              | null   \n",
      " cap-color                | null   \n",
      " bruises                  | null   \n",
      " odor                     | null   \n",
      " gill-attachment          | null   \n",
      " gill-spacing             | null   \n",
      " gill-size                | null   \n",
      " gill-color               | null   \n",
      " stalk-shape              | null   \n",
      " stalk-root               | null   \n",
      " stalk-surface-above-ring | null   \n",
      " stalk-surface-below-ring | null   \n",
      " stalk-color-above-ring   | null   \n",
      " stalk-color-below-ring   | null   \n",
      " veil-type                | null   \n",
      " veil-color               | null   \n",
      " ring-number              | null   \n",
      " ring-type                | null   \n",
      " spore-print-color        | null   \n",
      " population               | null   \n",
      " habitat                  | null   \n",
      "-RECORD 3--------------------------\n",
      " summary                  | min    \n",
      " class                    | e      \n",
      " cap-shape                | b      \n",
      " cap-surface              | f      \n",
      " cap-color                | b      \n",
      " bruises                  | f      \n",
      " odor                     | a      \n",
      " gill-attachment          | a      \n",
      " gill-spacing             | c      \n",
      " gill-size                | b      \n",
      " gill-color               | b      \n",
      " stalk-shape              | e      \n",
      " stalk-root               | ?      \n",
      " stalk-surface-above-ring | f      \n",
      " stalk-surface-below-ring | f      \n",
      " stalk-color-above-ring   | b      \n",
      " stalk-color-below-ring   | b      \n",
      " veil-type                | p      \n",
      " veil-color               | n      \n",
      " ring-number              | n      \n",
      " ring-type                | e      \n",
      " spore-print-color        | b      \n",
      " population               | a      \n",
      " habitat                  | d      \n",
      "-RECORD 4--------------------------\n",
      " summary                  | max    \n",
      " class                    | p      \n",
      " cap-shape                | x      \n",
      " cap-surface              | y      \n",
      " cap-color                | y      \n",
      " bruises                  | t      \n",
      " odor                     | y      \n",
      " gill-attachment          | f      \n",
      " gill-spacing             | w      \n",
      " gill-size                | n      \n",
      " gill-color               | y      \n",
      " stalk-shape              | t      \n",
      " stalk-root               | r      \n",
      " stalk-surface-above-ring | y      \n",
      " stalk-surface-below-ring | y      \n",
      " stalk-color-above-ring   | y      \n",
      " stalk-color-below-ring   | y      \n",
      " veil-type                | p      \n",
      " veil-color               | y      \n",
      " ring-number              | t      \n",
      " ring-type                | p      \n",
      " spore-print-color        | y      \n",
      " population               | y      \n",
      " habitat                  | w      \n",
      "\n"
     ]
    }
   ],
   "source": [
    "df.describe().show(vertical=True)"
   ]
  },
  {
   "cell_type": "code",
   "execution_count": 6,
   "metadata": {},
   "outputs": [
    {
     "name": "stdout",
     "output_type": "stream",
     "text": [
      "+-----+---------+-----------+---------+-------+----+---------------+------------+---------+----------+-----------+----------+------------------------+------------------------+----------------------+----------------------+---------+----------+-----------+---------+-----------------+----------+-------+\n",
      "|class|cap-shape|cap-surface|cap-color|bruises|odor|gill-attachment|gill-spacing|gill-size|gill-color|stalk-shape|stalk-root|stalk-surface-above-ring|stalk-surface-below-ring|stalk-color-above-ring|stalk-color-below-ring|veil-type|veil-color|ring-number|ring-type|spore-print-color|population|habitat|\n",
      "+-----+---------+-----------+---------+-------+----+---------------+------------+---------+----------+-----------+----------+------------------------+------------------------+----------------------+----------------------+---------+----------+-----------+---------+-----------------+----------+-------+\n",
      "|    0|        0|          0|        0|      0|   0|              0|           0|        0|         0|          0|         0|                       0|                       0|                     0|                     0|        0|         0|          0|        0|                0|         0|      0|\n",
      "+-----+---------+-----------+---------+-------+----+---------------+------------+---------+----------+-----------+----------+------------------------+------------------------+----------------------+----------------------+---------+----------+-----------+---------+-----------------+----------+-------+\n",
      "\n"
     ]
    }
   ],
   "source": [
    "from pyspark.sql.functions import when, count, col, isnull\n",
    "\n",
    "df.select([count(when(isnull(c), c)).alias(c) for c in df.columns]).show()"
   ]
  },
  {
   "cell_type": "code",
   "execution_count": 7,
   "metadata": {},
   "outputs": [],
   "source": [
    "from pyspark.ml.classification import LogisticRegression\n",
    "from pyspark.ml.feature import StringIndexer"
   ]
  },
  {
   "cell_type": "code",
   "execution_count": 8,
   "metadata": {},
   "outputs": [],
   "source": [
    "features_list = []\n",
    "indexer_list = []\n",
    "for col in df.columns:\n",
    "    indexer=StringIndexer(inputCol=col,outputCol=f\"{col}_indexed\")\n",
    "    if col == 'class':\n",
    "        indexer_fitted = indexer.fit(df)\n",
    "        df_r=indexer_fitted.transform(df)\n",
    "    else:\n",
    "        indexer_fitted = indexer.fit(df_r)\n",
    "        df_r=indexer_fitted.transform(df_r)\n",
    "        features_list.append(f\"{col}_indexed\")\n",
    "    indexer_list.append(indexer_fitted)"
   ]
  },
  {
   "cell_type": "code",
   "execution_count": 9,
   "metadata": {},
   "outputs": [
    {
     "data": {
      "text/plain": [
       "[StringIndexerModel: uid=StringIndexer_96abb39ef43b, handleInvalid=error,\n",
       " StringIndexerModel: uid=StringIndexer_ec0e3bd0f002, handleInvalid=error,\n",
       " StringIndexerModel: uid=StringIndexer_b87c34460369, handleInvalid=error,\n",
       " StringIndexerModel: uid=StringIndexer_6dc2b307329b, handleInvalid=error,\n",
       " StringIndexerModel: uid=StringIndexer_2d6fa7603d4a, handleInvalid=error,\n",
       " StringIndexerModel: uid=StringIndexer_0c4dde4ea289, handleInvalid=error,\n",
       " StringIndexerModel: uid=StringIndexer_e8c0961c6202, handleInvalid=error,\n",
       " StringIndexerModel: uid=StringIndexer_ece2e5d1d6de, handleInvalid=error,\n",
       " StringIndexerModel: uid=StringIndexer_38f68cf2edd6, handleInvalid=error,\n",
       " StringIndexerModel: uid=StringIndexer_2130d6f01392, handleInvalid=error,\n",
       " StringIndexerModel: uid=StringIndexer_97eeea233ec4, handleInvalid=error,\n",
       " StringIndexerModel: uid=StringIndexer_59b93203ec1d, handleInvalid=error,\n",
       " StringIndexerModel: uid=StringIndexer_6ae6eb58439c, handleInvalid=error,\n",
       " StringIndexerModel: uid=StringIndexer_3f9bb4d0b549, handleInvalid=error,\n",
       " StringIndexerModel: uid=StringIndexer_79d918f44e46, handleInvalid=error,\n",
       " StringIndexerModel: uid=StringIndexer_8a7028b1e583, handleInvalid=error,\n",
       " StringIndexerModel: uid=StringIndexer_856c09cb13a6, handleInvalid=error,\n",
       " StringIndexerModel: uid=StringIndexer_7d853fd3f29d, handleInvalid=error,\n",
       " StringIndexerModel: uid=StringIndexer_4293287c0822, handleInvalid=error,\n",
       " StringIndexerModel: uid=StringIndexer_e00888694c0a, handleInvalid=error,\n",
       " StringIndexerModel: uid=StringIndexer_ae2f379276c2, handleInvalid=error,\n",
       " StringIndexerModel: uid=StringIndexer_67c1809cb521, handleInvalid=error,\n",
       " StringIndexerModel: uid=StringIndexer_0c1ae73f871e, handleInvalid=error]"
      ]
     },
     "execution_count": 9,
     "metadata": {},
     "output_type": "execute_result"
    }
   ],
   "source": [
    "indexer_list"
   ]
  },
  {
   "cell_type": "code",
   "execution_count": 10,
   "metadata": {},
   "outputs": [
    {
     "data": {
      "text/plain": [
       "[Row(class='p', cap-shape='x', cap-surface='s', cap-color='n', bruises='t', odor='p', gill-attachment='f', gill-spacing='c', gill-size='n', gill-color='k', stalk-shape='e', stalk-root='e', stalk-surface-above-ring='s', stalk-surface-below-ring='s', stalk-color-above-ring='w', stalk-color-below-ring='w', veil-type='p', veil-color='w', ring-number='o', ring-type='p', spore-print-color='k', population='s', habitat='u', class_indexed=1.0, cap-shape_indexed=0.0, cap-surface_indexed=1.0, cap-color_indexed=0.0, bruises_indexed=1.0, odor_indexed=6.0, gill-attachment_indexed=0.0, gill-spacing_indexed=0.0, gill-size_indexed=1.0, gill-color_indexed=7.0, stalk-shape_indexed=1.0, stalk-root_indexed=2.0, stalk-surface-above-ring_indexed=0.0, stalk-surface-below-ring_indexed=0.0, stalk-color-above-ring_indexed=0.0, stalk-color-below-ring_indexed=0.0, veil-type_indexed=0.0, veil-color_indexed=0.0, ring-number_indexed=0.0, ring-type_indexed=0.0, spore-print-color_indexed=2.0, population_indexed=2.0, habitat_indexed=4.0),\n",
       " Row(class='e', cap-shape='x', cap-surface='s', cap-color='y', bruises='t', odor='a', gill-attachment='f', gill-spacing='c', gill-size='b', gill-color='k', stalk-shape='e', stalk-root='c', stalk-surface-above-ring='s', stalk-surface-below-ring='s', stalk-color-above-ring='w', stalk-color-below-ring='w', veil-type='p', veil-color='w', ring-number='o', ring-type='p', spore-print-color='n', population='n', habitat='g', class_indexed=0.0, cap-shape_indexed=0.0, cap-surface_indexed=1.0, cap-color_indexed=3.0, bruises_indexed=1.0, odor_indexed=4.0, gill-attachment_indexed=0.0, gill-spacing_indexed=0.0, gill-size_indexed=0.0, gill-color_indexed=7.0, stalk-shape_indexed=1.0, stalk-root_indexed=3.0, stalk-surface-above-ring_indexed=0.0, stalk-surface-below-ring_indexed=0.0, stalk-color-above-ring_indexed=0.0, stalk-color-below-ring_indexed=0.0, veil-type_indexed=0.0, veil-color_indexed=0.0, ring-number_indexed=0.0, ring-type_indexed=0.0, spore-print-color_indexed=1.0, population_indexed=3.0, habitat_indexed=1.0),\n",
       " Row(class='e', cap-shape='b', cap-surface='s', cap-color='w', bruises='t', odor='l', gill-attachment='f', gill-spacing='c', gill-size='b', gill-color='n', stalk-shape='e', stalk-root='c', stalk-surface-above-ring='s', stalk-surface-below-ring='s', stalk-color-above-ring='w', stalk-color-below-ring='w', veil-type='p', veil-color='w', ring-number='o', ring-type='p', spore-print-color='n', population='n', habitat='m', class_indexed=0.0, cap-shape_indexed=3.0, cap-surface_indexed=1.0, cap-color_indexed=4.0, bruises_indexed=1.0, odor_indexed=5.0, gill-attachment_indexed=0.0, gill-spacing_indexed=0.0, gill-size_indexed=0.0, gill-color_indexed=3.0, stalk-shape_indexed=1.0, stalk-root_indexed=3.0, stalk-surface-above-ring_indexed=0.0, stalk-surface-below-ring_indexed=0.0, stalk-color-above-ring_indexed=0.0, stalk-color-below-ring_indexed=0.0, veil-type_indexed=0.0, veil-color_indexed=0.0, ring-number_indexed=0.0, ring-type_indexed=0.0, spore-print-color_indexed=1.0, population_indexed=3.0, habitat_indexed=5.0),\n",
       " Row(class='p', cap-shape='x', cap-surface='y', cap-color='w', bruises='t', odor='p', gill-attachment='f', gill-spacing='c', gill-size='n', gill-color='n', stalk-shape='e', stalk-root='e', stalk-surface-above-ring='s', stalk-surface-below-ring='s', stalk-color-above-ring='w', stalk-color-below-ring='w', veil-type='p', veil-color='w', ring-number='o', ring-type='p', spore-print-color='k', population='s', habitat='u', class_indexed=1.0, cap-shape_indexed=0.0, cap-surface_indexed=0.0, cap-color_indexed=4.0, bruises_indexed=1.0, odor_indexed=6.0, gill-attachment_indexed=0.0, gill-spacing_indexed=0.0, gill-size_indexed=1.0, gill-color_indexed=3.0, stalk-shape_indexed=1.0, stalk-root_indexed=2.0, stalk-surface-above-ring_indexed=0.0, stalk-surface-below-ring_indexed=0.0, stalk-color-above-ring_indexed=0.0, stalk-color-below-ring_indexed=0.0, veil-type_indexed=0.0, veil-color_indexed=0.0, ring-number_indexed=0.0, ring-type_indexed=0.0, spore-print-color_indexed=2.0, population_indexed=2.0, habitat_indexed=4.0),\n",
       " Row(class='e', cap-shape='x', cap-surface='s', cap-color='g', bruises='f', odor='n', gill-attachment='f', gill-spacing='w', gill-size='b', gill-color='k', stalk-shape='t', stalk-root='e', stalk-surface-above-ring='s', stalk-surface-below-ring='s', stalk-color-above-ring='w', stalk-color-below-ring='w', veil-type='p', veil-color='w', ring-number='o', ring-type='e', spore-print-color='n', population='a', habitat='g', class_indexed=0.0, cap-shape_indexed=0.0, cap-surface_indexed=1.0, cap-color_indexed=1.0, bruises_indexed=0.0, odor_indexed=0.0, gill-attachment_indexed=0.0, gill-spacing_indexed=1.0, gill-size_indexed=0.0, gill-color_indexed=7.0, stalk-shape_indexed=0.0, stalk-root_indexed=2.0, stalk-surface-above-ring_indexed=0.0, stalk-surface-below-ring_indexed=0.0, stalk-color-above-ring_indexed=0.0, stalk-color-below-ring_indexed=0.0, veil-type_indexed=0.0, veil-color_indexed=0.0, ring-number_indexed=0.0, ring-type_indexed=1.0, spore-print-color_indexed=1.0, population_indexed=4.0, habitat_indexed=1.0)]"
      ]
     },
     "execution_count": 10,
     "metadata": {},
     "output_type": "execute_result"
    }
   ],
   "source": [
    "df_r.head(5)"
   ]
  },
  {
   "cell_type": "code",
   "execution_count": 11,
   "metadata": {},
   "outputs": [],
   "source": [
    "from pyspark.ml.feature import VectorAssembler"
   ]
  },
  {
   "cell_type": "code",
   "execution_count": 12,
   "metadata": {},
   "outputs": [
    {
     "data": {
      "text/plain": [
       "['cap-shape_indexed',\n",
       " 'cap-surface_indexed',\n",
       " 'cap-color_indexed',\n",
       " 'bruises_indexed',\n",
       " 'odor_indexed',\n",
       " 'gill-attachment_indexed',\n",
       " 'gill-spacing_indexed',\n",
       " 'gill-size_indexed',\n",
       " 'gill-color_indexed',\n",
       " 'stalk-shape_indexed',\n",
       " 'stalk-root_indexed',\n",
       " 'stalk-surface-above-ring_indexed',\n",
       " 'stalk-surface-below-ring_indexed',\n",
       " 'stalk-color-above-ring_indexed',\n",
       " 'stalk-color-below-ring_indexed',\n",
       " 'veil-type_indexed',\n",
       " 'veil-color_indexed',\n",
       " 'ring-number_indexed',\n",
       " 'ring-type_indexed',\n",
       " 'spore-print-color_indexed',\n",
       " 'population_indexed',\n",
       " 'habitat_indexed']"
      ]
     },
     "execution_count": 12,
     "metadata": {},
     "output_type": "execute_result"
    }
   ],
   "source": [
    "features_list"
   ]
  },
  {
   "cell_type": "code",
   "execution_count": 13,
   "metadata": {},
   "outputs": [],
   "source": [
    "featureassembler=VectorAssembler(inputCols=features_list,outputCol=\"X\")\n",
    "output=featureassembler.transform(df_r)"
   ]
  },
  {
   "cell_type": "code",
   "execution_count": 14,
   "metadata": {},
   "outputs": [
    {
     "name": "stdout",
     "output_type": "stream",
     "text": [
      "47\n",
      "+--------------------+\n",
      "|                   X|\n",
      "+--------------------+\n",
      "|(22,[1,3,4,7,8,9,...|\n",
      "|(22,[1,2,3,4,8,9,...|\n",
      "|(22,[0,1,2,3,4,8,...|\n",
      "|(22,[2,3,4,7,8,9,...|\n",
      "|(22,[1,2,6,8,10,1...|\n",
      "|(22,[2,3,4,8,9,10...|\n",
      "|(22,[0,1,2,3,4,8,...|\n",
      "|(22,[0,2,3,4,8,9,...|\n",
      "|(22,[2,3,4,7,8,9,...|\n",
      "|(22,[0,1,2,3,4,8,...|\n",
      "|(22,[2,3,4,8,9,10...|\n",
      "|(22,[2,3,4,8,9,10...|\n",
      "|(22,[0,1,2,3,4,8,...|\n",
      "|(22,[2,3,4,7,8,9,...|\n",
      "|(22,[1,6,8,10,12,...|\n",
      "|(22,[0,1,2,7,8,9,...|\n",
      "|(22,[0,1,2,6,8,10...|\n",
      "|(22,[1,3,4,7,8,9,...|\n",
      "|(22,[2,3,4,7,8,9,...|\n",
      "|(22,[1,3,4,7,8,9,...|\n",
      "+--------------------+\n",
      "only showing top 20 rows\n",
      "\n"
     ]
    }
   ],
   "source": [
    "print(len(output.columns))\n",
    "output.select('X').show()"
   ]
  },
  {
   "cell_type": "code",
   "execution_count": 15,
   "metadata": {},
   "outputs": [],
   "source": [
    "train_data,test_data=output.randomSplit([0.75,0.25])"
   ]
  },
  {
   "cell_type": "code",
   "execution_count": 16,
   "metadata": {},
   "outputs": [],
   "source": [
    "classifier = LogisticRegression(featuresCol='X', labelCol='class_indexed')\n",
    "classifier = classifier.fit(train_data)"
   ]
  },
  {
   "cell_type": "code",
   "execution_count": 17,
   "metadata": {},
   "outputs": [],
   "source": [
    "results = classifier.evaluate(test_data)"
   ]
  },
  {
   "cell_type": "code",
   "execution_count": 18,
   "metadata": {},
   "outputs": [
    {
     "data": {
      "text/plain": [
       "0.990234375"
      ]
     },
     "execution_count": 18,
     "metadata": {},
     "output_type": "execute_result"
    }
   ],
   "source": [
    "results.accuracy"
   ]
  },
  {
   "cell_type": "code",
   "execution_count": 19,
   "metadata": {},
   "outputs": [],
   "source": [
    "from pyspark.ml.classification import RandomForestClassifier"
   ]
  },
  {
   "cell_type": "code",
   "execution_count": 20,
   "metadata": {},
   "outputs": [],
   "source": [
    "classifier_2 = RandomForestClassifier(featuresCol='X', labelCol='class_indexed')\n",
    "model =  classifier_2.fit(train_data)"
   ]
  },
  {
   "cell_type": "code",
   "execution_count": 21,
   "metadata": {},
   "outputs": [
    {
     "name": "stdout",
     "output_type": "stream",
     "text": [
      "+-------------+--------------------+--------------------+----------+\n",
      "|class_indexed|       rawPrediction|         probability|prediction|\n",
      "+-------------+--------------------+--------------------+----------+\n",
      "|          0.0|[19.7129943415285...|[0.98564971707642...|       0.0|\n",
      "|          0.0|[19.5264805550147...|[0.97632402775073...|       0.0|\n",
      "|          0.0|[19.7153866860261...|[0.98576933430130...|       0.0|\n",
      "|          0.0|[19.6207920914315...|[0.98103960457157...|       0.0|\n",
      "|          0.0|[19.7160494889393...|[0.98580247444696...|       0.0|\n",
      "|          0.0|[19.7160494889393...|[0.98580247444696...|       0.0|\n",
      "|          0.0|[19.7129943415285...|[0.98564971707642...|       0.0|\n",
      "|          0.0|[19.0152251437593...|[0.95076125718796...|       0.0|\n",
      "|          0.0|[19.7153866860261...|[0.98576933430130...|       0.0|\n",
      "|          0.0|[19.0176174882569...|[0.95088087441284...|       0.0|\n",
      "|          0.0|[19.7153866860261...|[0.98576933430130...|       0.0|\n",
      "|          0.0|[19.6207920914315...|[0.98103960457157...|       0.0|\n",
      "|          0.0|[19.8106440835339...|[0.99053220417669...|       0.0|\n",
      "|          0.0|[19.5264805550147...|[0.97632402775073...|       0.0|\n",
      "|          0.0|[19.7129943415285...|[0.98564971707642...|       0.0|\n",
      "|          0.0|[19.7153866860261...|[0.98576933430130...|       0.0|\n",
      "|          0.0|[19.7153866860261...|[0.98576933430130...|       0.0|\n",
      "|          0.0|[19.7153866860261...|[0.98576933430130...|       0.0|\n",
      "|          0.0|[19.5870267616018...|[0.97935133808009...|       0.0|\n",
      "|          0.0|[19.6789459535210...|[0.98394729767605...|       0.0|\n",
      "+-------------+--------------------+--------------------+----------+\n",
      "only showing top 20 rows\n",
      "\n"
     ]
    }
   ],
   "source": [
    "predictions = model.transform(test_data)\n",
    "predictions.select('class_indexed', 'rawPrediction', 'probability', 'prediction').show()"
   ]
  },
  {
   "cell_type": "code",
   "execution_count": 22,
   "metadata": {},
   "outputs": [],
   "source": [
    "from pyspark.ml.evaluation import BinaryClassificationEvaluator"
   ]
  },
  {
   "cell_type": "code",
   "execution_count": 23,
   "metadata": {},
   "outputs": [],
   "source": [
    "evaluator = BinaryClassificationEvaluator(labelCol=\"class_indexed\", rawPredictionCol=\"prediction\")\n",
    "result = evaluator.evaluate(predictions, {evaluator.metricName: \"areaUnderROC\"})"
   ]
  },
  {
   "cell_type": "code",
   "execution_count": 24,
   "metadata": {},
   "outputs": [
    {
     "data": {
      "text/plain": [
       "0.9969635627530364"
      ]
     },
     "execution_count": 24,
     "metadata": {},
     "output_type": "execute_result"
    }
   ],
   "source": [
    "result"
   ]
  },
  {
   "cell_type": "code",
   "execution_count": 28,
   "metadata": {},
   "outputs": [],
   "source": [
    "model.save(path=\"../jovyan/work/API/model\")"
   ]
  },
  {
   "cell_type": "code",
   "execution_count": 21,
   "metadata": {},
   "outputs": [],
   "source": [
    "from pyspark.ml.classification import RandomForestClassificationModel"
   ]
  },
  {
   "cell_type": "code",
   "execution_count": 22,
   "metadata": {},
   "outputs": [],
   "source": [
    "model = RandomForestClassificationModel.load(\"../jovyan/work/API/model\")"
   ]
  },
  {
   "cell_type": "code",
   "execution_count": 23,
   "metadata": {},
   "outputs": [
    {
     "name": "stdout",
     "output_type": "stream",
     "text": [
      "+-------------+--------------------+--------------------+----------+\n",
      "|class_indexed|       rawPrediction|         probability|prediction|\n",
      "+-------------+--------------------+--------------------+----------+\n",
      "|          0.0|[19.7129943415285...|[0.98564971707642...|       0.0|\n",
      "|          0.0|[19.6207920914315...|[0.98103960457157...|       0.0|\n",
      "|          0.0|[19.8106440835339...|[0.99053220417669...|       0.0|\n",
      "|          0.0|[19.7129943415285...|[0.98564971707642...|       0.0|\n",
      "|          0.0|[19.0152251437593...|[0.95076125718796...|       0.0|\n",
      "|          0.0|[19.6183997469339...|[0.98091998734669...|       0.0|\n",
      "|          0.0|[19.7153866860261...|[0.98576933430130...|       0.0|\n",
      "|          0.0|[19.7153866860261...|[0.98576933430130...|       0.0|\n",
      "|          0.0|[19.6207920914315...|[0.98103960457157...|       0.0|\n",
      "|          0.0|[19.8106440835339...|[0.99053220417669...|       0.0|\n",
      "|          0.0|[19.8106440835339...|[0.99053220417669...|       0.0|\n",
      "|          0.0|[19.7160494889393...|[0.98580247444696...|       0.0|\n",
      "|          0.0|[19.1128748857647...|[0.95564374428823...|       0.0|\n",
      "|          0.0|[19.1128748857647...|[0.95564374428823...|       0.0|\n",
      "|          0.0|[19.7153866860261...|[0.98576933430130...|       0.0|\n",
      "|          0.0|[19.5288728995123...|[0.97644364497561...|       0.0|\n",
      "|          0.0|[19.8106440835339...|[0.99053220417669...|       0.0|\n",
      "|          0.0|[19.6241302970201...|[0.98120651485100...|       0.0|\n",
      "|          0.0|[19.5870267616018...|[0.97935133808009...|       0.0|\n",
      "|          0.0|[19.5870267616018...|[0.97935133808009...|       0.0|\n",
      "+-------------+--------------------+--------------------+----------+\n",
      "only showing top 20 rows\n",
      "\n"
     ]
    }
   ],
   "source": [
    "predictions = model.transform(test_data)\n",
    "predictions.select('class_indexed', 'rawPrediction', 'probability', 'prediction').show()"
   ]
  },
  {
   "cell_type": "code",
   "execution_count": 112,
   "metadata": {},
   "outputs": [],
   "source": [
    "from pyspark.ml.classification import GBTClassifier"
   ]
  },
  {
   "cell_type": "code",
   "execution_count": 113,
   "metadata": {},
   "outputs": [],
   "source": [
    "classifier_3 = GBTClassifier(featuresCol='X', labelCol='class_indexed')\n",
    "model =  classifier_3.fit(train_data)"
   ]
  },
  {
   "cell_type": "code",
   "execution_count": 114,
   "metadata": {},
   "outputs": [
    {
     "name": "stdout",
     "output_type": "stream",
     "text": [
      "+-------------+--------------------+--------------------+----------+\n",
      "|class_indexed|       rawPrediction|         probability|prediction|\n",
      "+-------------+--------------------+--------------------+----------+\n",
      "|          0.0|[1.54267331840267...|[0.95628424516656...|       0.0|\n",
      "|          0.0|[1.54267331840267...|[0.95628424516656...|       0.0|\n",
      "|          0.0|[1.54267331840267...|[0.95628424516656...|       0.0|\n",
      "|          0.0|[1.54267331840267...|[0.95628424516656...|       0.0|\n",
      "|          0.0|[1.54267331840267...|[0.95628424516656...|       0.0|\n",
      "|          0.0|[1.54267331840267...|[0.95628424516656...|       0.0|\n",
      "|          0.0|[1.54267331840267...|[0.95628424516656...|       0.0|\n",
      "|          0.0|[1.54267331840267...|[0.95628424516656...|       0.0|\n",
      "|          0.0|[1.54267331840267...|[0.95628424516656...|       0.0|\n",
      "|          0.0|[1.54267331840267...|[0.95628424516656...|       0.0|\n",
      "|          0.0|[1.54267331840267...|[0.95628424516656...|       0.0|\n",
      "|          0.0|[1.54267331840267...|[0.95628424516656...|       0.0|\n",
      "|          0.0|[1.54267331840267...|[0.95628424516656...|       0.0|\n",
      "|          0.0|[1.54267331840267...|[0.95628424516656...|       0.0|\n",
      "|          0.0|[1.54267331840267...|[0.95628424516656...|       0.0|\n",
      "|          0.0|[1.49794826776069...|[0.95238840134974...|       0.0|\n",
      "|          0.0|[1.49794826776069...|[0.95238840134974...|       0.0|\n",
      "|          0.0|[1.49794826776069...|[0.95238840134974...|       0.0|\n",
      "|          0.0|[1.49794826776069...|[0.95238840134974...|       0.0|\n",
      "|          0.0|[1.49794826776069...|[0.95238840134974...|       0.0|\n",
      "+-------------+--------------------+--------------------+----------+\n",
      "only showing top 20 rows\n",
      "\n"
     ]
    }
   ],
   "source": [
    "predictions = model.transform(test_data)\n",
    "predictions.select('class_indexed', 'rawPrediction', 'probability', 'prediction').show()"
   ]
  },
  {
   "cell_type": "code",
   "execution_count": 124,
   "metadata": {},
   "outputs": [
    {
     "data": {
      "text/plain": [
       "SparseVector(22, {0: 0.0032, 1: 0.0006, 2: 0.0, 4: 0.9374, 5: 0.0, 6: 0.0, 7: 0.0009, 8: 0.0, 9: 0.0, 10: 0.0036, 11: 0.0018, 13: 0.0, 14: 0.0122, 18: 0.0, 19: 0.032, 20: 0.0079, 21: 0.0003})"
      ]
     },
     "execution_count": 124,
     "metadata": {},
     "output_type": "execute_result"
    }
   ],
   "source": [
    "model.featureImportances"
   ]
  },
  {
   "cell_type": "code",
   "execution_count": 115,
   "metadata": {},
   "outputs": [],
   "source": [
    "evaluator = BinaryClassificationEvaluator(labelCol=\"class_indexed\", rawPredictionCol=\"prediction\")\n",
    "result = evaluator.evaluate(predictions, {evaluator.metricName: \"areaUnderROC\"})"
   ]
  },
  {
   "cell_type": "code",
   "execution_count": 116,
   "metadata": {},
   "outputs": [
    {
     "data": {
      "text/plain": [
       "1.0"
      ]
     },
     "execution_count": 116,
     "metadata": {},
     "output_type": "execute_result"
    }
   ],
   "source": [
    "result"
   ]
  },
  {
   "cell_type": "code",
   "execution_count": 125,
   "metadata": {},
   "outputs": [],
   "source": [
    "from pyspark.ml.classification import MultilayerPerceptronClassifier"
   ]
  },
  {
   "cell_type": "code",
   "execution_count": 160,
   "metadata": {},
   "outputs": [],
   "source": [
    "classifier_4 = MultilayerPerceptronClassifier(layers=[22, 16, 8, 4, 2], featuresCol='X', labelCol='class_indexed')\n",
    "model = classifier_4.fit(train_data)\n",
    "\n",
    "predictions = model.transform(test_data)"
   ]
  },
  {
   "cell_type": "code",
   "execution_count": 161,
   "metadata": {},
   "outputs": [
    {
     "data": {
      "text/plain": [
       "DataFrame[class: string, cap-shape: string, cap-surface: string, cap-color: string, bruises: string, odor: string, gill-attachment: string, gill-spacing: string, gill-size: string, gill-color: string, stalk-shape: string, stalk-root: string, stalk-surface-above-ring: string, stalk-surface-below-ring: string, stalk-color-above-ring: string, stalk-color-below-ring: string, veil-type: string, veil-color: string, ring-number: string, ring-type: string, spore-print-color: string, population: string, habitat: string, class_indexed: double, cap-shape_indexed: double, cap-surface_indexed: double, cap-color_indexed: double, bruises_indexed: double, odor_indexed: double, gill-attachment_indexed: double, gill-spacing_indexed: double, gill-size_indexed: double, gill-color_indexed: double, stalk-shape_indexed: double, stalk-root_indexed: double, stalk-surface-above-ring_indexed: double, stalk-surface-below-ring_indexed: double, stalk-color-above-ring_indexed: double, stalk-color-below-ring_indexed: double, veil-type_indexed: double, veil-color_indexed: double, ring-number_indexed: double, ring-type_indexed: double, spore-print-color_indexed: double, population_indexed: double, habitat_indexed: double, X: vector, rawPrediction: vector, probability: vector, prediction: double]"
      ]
     },
     "execution_count": 161,
     "metadata": {},
     "output_type": "execute_result"
    }
   ],
   "source": [
    "predictions"
   ]
  },
  {
   "cell_type": "code",
   "execution_count": 162,
   "metadata": {},
   "outputs": [
    {
     "data": {
      "text/plain": [
       "DataFrame[prediction: double]"
      ]
     },
     "execution_count": 162,
     "metadata": {},
     "output_type": "execute_result"
    }
   ],
   "source": [
    "predictions.select('prediction')"
   ]
  },
  {
   "cell_type": "code",
   "execution_count": 163,
   "metadata": {},
   "outputs": [],
   "source": [
    "evaluator = BinaryClassificationEvaluator(labelCol=\"class_indexed\", rawPredictionCol=\"prediction\")\n",
    "result = evaluator.evaluate(predictions, {evaluator.metricName: \"areaUnderROC\"})"
   ]
  },
  {
   "cell_type": "code",
   "execution_count": 164,
   "metadata": {},
   "outputs": [
    {
     "data": {
      "text/plain": [
       "1.0"
      ]
     },
     "execution_count": 164,
     "metadata": {},
     "output_type": "execute_result"
    }
   ],
   "source": [
    "result"
   ]
  }
 ],
 "metadata": {
  "kernelspec": {
   "display_name": "Python 3 (ipykernel)",
   "language": "python",
   "name": "python3"
  },
  "language_info": {
   "codemirror_mode": {
    "name": "ipython",
    "version": 3
   },
   "file_extension": ".py",
   "mimetype": "text/x-python",
   "name": "python",
   "nbconvert_exporter": "python",
   "pygments_lexer": "ipython3",
   "version": "3.10.8 | packaged by conda-forge | (main, Nov 22 2022, 08:16:33) [MSC v.1929 64 bit (AMD64)]"
  },
  "orig_nbformat": 4,
  "vscode": {
   "interpreter": {
    "hash": "a0e2d4c9d6fb0133ca121d3cdbf5e347a78a7c5be40baa3e97633a28a103d156"
   }
  }
 },
 "nbformat": 4,
 "nbformat_minor": 2
}
